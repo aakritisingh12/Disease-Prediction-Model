{
 "cells": [
  {
   "cell_type": "markdown",
   "id": "a6522ecb",
   "metadata": {},
   "source": [
    "Dataset Link: https://www.kaggle.com/amyjang/alzheimer-mri-model-tensorflow-2-3-data-loading"
   ]
  },
  {
   "cell_type": "code",
   "execution_count": 1,
   "id": "7df9ddc5",
   "metadata": {
    "ExecuteTime": {
     "end_time": "2021-11-09T09:55:56.155955Z",
     "start_time": "2021-11-09T09:55:53.125520Z"
    }
   },
   "outputs": [
    {
     "ename": "ModuleNotFoundError",
     "evalue": "No module named 'tensorflow'",
     "output_type": "error",
     "traceback": [
      "\u001b[1;31m---------------------------------------------------------------------------\u001b[0m",
      "\u001b[1;31mModuleNotFoundError\u001b[0m                       Traceback (most recent call last)",
      "\u001b[1;32m<ipython-input-1-92727eacf0f8>\u001b[0m in \u001b[0;36m<module>\u001b[1;34m\u001b[0m\n\u001b[0;32m      1\u001b[0m \u001b[1;32mimport\u001b[0m \u001b[0mos\u001b[0m\u001b[1;33m\u001b[0m\u001b[1;33m\u001b[0m\u001b[0m\n\u001b[1;32m----> 2\u001b[1;33m \u001b[1;32mimport\u001b[0m \u001b[0mtensorflow\u001b[0m \u001b[1;32mas\u001b[0m \u001b[0mtf\u001b[0m\u001b[1;33m\u001b[0m\u001b[1;33m\u001b[0m\u001b[0m\n\u001b[0m\u001b[0;32m      3\u001b[0m \u001b[1;32mfrom\u001b[0m \u001b[0mtensorflow\u001b[0m\u001b[1;33m.\u001b[0m\u001b[0mkeras\u001b[0m \u001b[1;32mimport\u001b[0m \u001b[0mlayers\u001b[0m\u001b[1;33m\u001b[0m\u001b[1;33m\u001b[0m\u001b[0m\n\u001b[0;32m      4\u001b[0m \u001b[1;32mfrom\u001b[0m \u001b[0mtensorflow\u001b[0m \u001b[1;32mimport\u001b[0m \u001b[0mkeras\u001b[0m\u001b[1;33m\u001b[0m\u001b[1;33m\u001b[0m\u001b[0m\n\u001b[0;32m      5\u001b[0m \u001b[1;32mfrom\u001b[0m \u001b[0mtensorflow\u001b[0m\u001b[1;33m.\u001b[0m\u001b[0mkeras\u001b[0m\u001b[1;33m.\u001b[0m\u001b[0mlayers\u001b[0m\u001b[1;33m.\u001b[0m\u001b[0mexperimental\u001b[0m \u001b[1;32mimport\u001b[0m \u001b[0mpreprocessing\u001b[0m\u001b[1;33m\u001b[0m\u001b[1;33m\u001b[0m\u001b[0m\n",
      "\u001b[1;31mModuleNotFoundError\u001b[0m: No module named 'tensorflow'"
     ]
    }
   ],
   "source": [
    "import os\n",
    "import tensorflow as tf\n",
    "from tensorflow.keras import layers\n",
    "from tensorflow import keras\n",
    "from tensorflow.keras.layers.experimental import preprocessing\n",
    "from tensorflow.keras.preprocessing.image import ImageDataGenerator\n",
    "import pandas as pd\n",
    "from matplotlib import pyplot as plt\n",
    "import pickle\n",
    "\n",
    "tf.config.experimental.set_memory_growth(tf.config.list_physical_devices('GPU')[0], True)\n",
    "gpu_device = tf.config.list_physical_devices('GPU')[0]\n",
    "gpu_device"
   ]
  },
  {
   "cell_type": "code",
   "execution_count": 2,
   "id": "aec28b35",
   "metadata": {
    "ExecuteTime": {
     "end_time": "2021-11-09T09:55:56.171953Z",
     "start_time": "2021-11-09T09:55:56.157943Z"
    }
   },
   "outputs": [
    {
     "data": {
      "text/plain": [
       "'NVIDIA GeForce GTX 1650 Ti'"
      ]
     },
     "execution_count": 2,
     "metadata": {},
     "output_type": "execute_result"
    }
   ],
   "source": [
    "tf.config.experimental.get_device_details(gpu_device)['device_name']"
   ]
  },
  {
   "cell_type": "code",
   "execution_count": 3,
   "id": "7dc0c734",
   "metadata": {
    "ExecuteTime": {
     "end_time": "2021-11-09T09:55:56.187980Z",
     "start_time": "2021-11-09T09:55:56.173941Z"
    }
   },
   "outputs": [
    {
     "data": {
      "text/plain": [
       "'2.6.0'"
      ]
     },
     "execution_count": 3,
     "metadata": {},
     "output_type": "execute_result"
    }
   ],
   "source": [
    "tf.__version__"
   ]
  },
  {
   "cell_type": "code",
   "execution_count": 4,
   "id": "099e4af7",
   "metadata": {
    "ExecuteTime": {
     "end_time": "2021-11-09T09:55:56.203984Z",
     "start_time": "2021-11-09T09:55:56.189971Z"
    }
   },
   "outputs": [],
   "source": [
    "train_dataset_dir = \".\\\\Alzheimer_s Dataset\\\\train\"\n",
    "test_dataset_dir = \".\\\\Alzheimer_s Dataset\\\\test\"\n",
    "IMG_SIZE = (208, 176)\n",
    "BATCH_SIZE = 16\n",
    "EPOCHS = 100\n",
    "COLOR_MODE = 'grayscale'\n",
    "CHANNELS = 3 if COLOR_MODE == 'rgb' else 1\n",
    "N_LABELS = len(os.listdir(train_dataset_dir))\n",
    "DTYPE = tf.float32"
   ]
  },
  {
   "cell_type": "code",
   "execution_count": 5,
   "id": "9599d932",
   "metadata": {
    "ExecuteTime": {
     "end_time": "2021-11-09T09:55:56.220015Z",
     "start_time": "2021-11-09T09:55:56.205980Z"
    }
   },
   "outputs": [],
   "source": [
    "train_datagen = ImageDataGenerator(data_format='channels_last',\n",
    "                                   validation_split=0.2,\n",
    "                                   rescale=1.0 / 255.0,\n",
    "                                   dtype=DTYPE)\n",
    "\n",
    "test_datagen = ImageDataGenerator(data_format='channels_last',\n",
    "                                  validation_split=0,\n",
    "                                  rescale=1.0 / 255.0,\n",
    "                                  dtype=DTYPE)"
   ]
  },
  {
   "cell_type": "code",
   "execution_count": 6,
   "id": "fa4da4e3",
   "metadata": {
    "ExecuteTime": {
     "end_time": "2021-11-09T09:55:56.440156Z",
     "start_time": "2021-11-09T09:55:56.222010Z"
    }
   },
   "outputs": [
    {
     "name": "stdout",
     "output_type": "stream",
     "text": [
      "Found 4098 images belonging to 4 classes.\n"
     ]
    }
   ],
   "source": [
    "train_generator = train_datagen.flow_from_directory(directory=train_dataset_dir,\n",
    "                                                    target_size=IMG_SIZE,\n",
    "                                                    color_mode=COLOR_MODE,\n",
    "                                                    class_mode='categorical',\n",
    "                                                    shuffle=True,\n",
    "                                                    subset='training',\n",
    "                                                    batch_size=BATCH_SIZE)"
   ]
  },
  {
   "cell_type": "code",
   "execution_count": 7,
   "id": "236ccb8c",
   "metadata": {
    "ExecuteTime": {
     "end_time": "2021-11-09T09:55:56.518430Z",
     "start_time": "2021-11-09T09:55:56.442173Z"
    }
   },
   "outputs": [
    {
     "name": "stdout",
     "output_type": "stream",
     "text": [
      "Found 1023 images belonging to 4 classes.\n"
     ]
    }
   ],
   "source": [
    "val_generator = train_datagen.flow_from_directory(directory=train_dataset_dir,\n",
    "                                                  target_size=IMG_SIZE,\n",
    "                                                  color_mode=COLOR_MODE,\n",
    "                                                  class_mode='categorical',\n",
    "                                                  shuffle=True,\n",
    "                                                  subset='validation',\n",
    "                                                  batch_size=BATCH_SIZE)"
   ]
  },
  {
   "cell_type": "code",
   "execution_count": 8,
   "id": "9f98c053",
   "metadata": {
    "ExecuteTime": {
     "end_time": "2021-11-09T09:55:56.612438Z",
     "start_time": "2021-11-09T09:55:56.520412Z"
    }
   },
   "outputs": [
    {
     "name": "stdout",
     "output_type": "stream",
     "text": [
      "Found 1279 images belonging to 4 classes.\n"
     ]
    }
   ],
   "source": [
    "test_generator = test_datagen.flow_from_directory(directory=test_dataset_dir,\n",
    "                                                  target_size=IMG_SIZE,\n",
    "                                                  color_mode=COLOR_MODE,\n",
    "                                                  class_mode='categorical',\n",
    "                                                  shuffle=True,\n",
    "                                                  subset='training',\n",
    "                                                  batch_size=BATCH_SIZE)"
   ]
  },
  {
   "cell_type": "code",
   "execution_count": 9,
   "id": "c64b17ff",
   "metadata": {
    "ExecuteTime": {
     "end_time": "2021-11-09T09:55:56.628442Z",
     "start_time": "2021-11-09T09:55:56.615441Z"
    }
   },
   "outputs": [],
   "source": [
    "@keras.utils.register_keras_serializable()\n",
    "class ConvBlock(layers.Layer):\n",
    "    def __init__(self, conv_filters, conv_kernel_size, **kwargs):\n",
    "        super(ConvBlock, self).__init__()\n",
    "        self.conv_filters = conv_filters\n",
    "        self.conv_kernel_size = conv_kernel_size\n",
    "\n",
    "        self.conv1 = layers.Conv2D(self.conv_filters, self.conv_kernel_size, padding='same', activation=layers.LeakyReLU())\n",
    "        self.conv2 = layers.Conv2D(self.conv_filters, self.conv_kernel_size, padding='same', activation=layers.LeakyReLU())\n",
    "        self.bn = layers.BatchNormalization()\n",
    "        self.maxpool = layers.MaxPooling2D(pool_size=2, strides=2)\n",
    "        \n",
    "    def get_config(self):\n",
    "        config = super().get_config().copy()\n",
    "        config.update({\n",
    "            'conv_filters': self.conv_filters,\n",
    "            'conv_kernel_size': self.conv_kernel_size\n",
    "        })\n",
    "        return config\n",
    "    \n",
    "    @tf.function()\n",
    "    def call(self, tensor, training=False):\n",
    "        tensor = self.conv1(tensor)\n",
    "        tensor = self.conv2(tensor)\n",
    "        tensor = self.bn(tensor, training=training)\n",
    "        tensor = self.maxpool(tensor)\n",
    "        return tensor"
   ]
  },
  {
   "cell_type": "code",
   "execution_count": 10,
   "id": "c3dccaea",
   "metadata": {
    "ExecuteTime": {
     "end_time": "2021-11-09T09:55:56.644438Z",
     "start_time": "2021-11-09T09:55:56.630438Z"
    }
   },
   "outputs": [],
   "source": [
    "@keras.utils.register_keras_serializable()\n",
    "class DenseBlock(layers.Layer):\n",
    "    def __init__(self, units, dropout_rate=0, **kwargs):\n",
    "        super(DenseBlock, self).__init__()\n",
    "        self.units = units\n",
    "        self.dropout_rate = dropout_rate\n",
    "\n",
    "        self.dense = layers.Dense(self.units, activation=layers.LeakyReLU())\n",
    "        self.bn = layers.BatchNormalization()\n",
    "        if self.dropout_rate != 0:\n",
    "            self.dropout = layers.Dropout(self.dropout_rate)\n",
    "            \n",
    "    def get_config(self):\n",
    "        config = super().get_config().copy()\n",
    "        config.update({\n",
    "            'units': self.units,\n",
    "            'dropout_rate': self.dropout_rate\n",
    "        })\n",
    "        return config\n",
    "    \n",
    "    @tf.function()\n",
    "    def call(self, tensor):\n",
    "        tensor = self.dense(tensor)\n",
    "        tensor = self.bn(tensor)\n",
    "        if self.dropout_rate != 0:\n",
    "            tensor = self.dropout(tensor)\n",
    "        return tensor"
   ]
  },
  {
   "cell_type": "code",
   "execution_count": 11,
   "id": "96ee332f",
   "metadata": {
    "ExecuteTime": {
     "end_time": "2021-11-09T09:55:56.660442Z",
     "start_time": "2021-11-09T09:55:56.645439Z"
    }
   },
   "outputs": [],
   "source": [
    "class Model(keras.Model):\n",
    "    def __init__(self, n_labels=N_LABELS):\n",
    "        super(Model, self).__init__()\n",
    "\n",
    "        self.convblock1 = ConvBlock(32, 3)\n",
    "        self.convblock2 = ConvBlock(64, 3)\n",
    "        self.convblock3 = ConvBlock(128, 3)\n",
    "        self.convblock4 = ConvBlock(256, 3)\n",
    "        self.convblock5 = ConvBlock(256, 3)\n",
    "        self.dropout = layers.Dropout(0.3)\n",
    "        self.flatten = layers.Flatten()\n",
    "        self.dense1 = DenseBlock(512, 0.5)\n",
    "        self.dense2 = DenseBlock(256, 0.3)\n",
    "        self.dense3 = DenseBlock(128, 0.2)\n",
    "        self.outputs = layers.Dense(n_labels)\n",
    "\n",
    "    @tf.function\n",
    "    def call(self, tensor):\n",
    "        tensor = self.convblock1(tensor)\n",
    "        tensor = self.convblock2(tensor)\n",
    "        tensor = self.convblock3(tensor)\n",
    "        tensor = self.convblock4(tensor)\n",
    "        tensor = self.convblock5(tensor)\n",
    "        tensor = self.dropout(tensor)\n",
    "        tensor = self.flatten(tensor)\n",
    "        tensor = self.dense1(tensor)\n",
    "        tensor = self.dense2(tensor)\n",
    "        tensor = self.dense3(tensor)\n",
    "        tensor = self.outputs(tensor)\n",
    "        return tensor"
   ]
  },
  {
   "cell_type": "code",
   "execution_count": 12,
   "id": "a8f08b62",
   "metadata": {
    "ExecuteTime": {
     "end_time": "2021-11-09T09:55:57.778425Z",
     "start_time": "2021-11-09T09:55:56.661444Z"
    }
   },
   "outputs": [],
   "source": [
    "sequential_layers = [layers.InputLayer(input_shape=(*IMG_SIZE, CHANNELS))]\n",
    "sequential_layers.extend(Model(n_labels=N_LABELS).layers)\n",
    "model = keras.Sequential(sequential_layers)\n",
    "model_name = \"Alzheimers_Model\"\n",
    "\n",
    "lr_scheduler = keras.optimizers.schedules.InverseTimeDecay(1e-4, decay_steps=len(train_generator), decay_rate=0.9)\n",
    "\n",
    "monitor = 'val_acc'\n",
    "early_stopping = keras.callbacks.EarlyStopping(monitor=monitor, patience=10, restore_best_weights=True)\n",
    "best_checkpoint = keras.callbacks.ModelCheckpoint(filepath=f\"{model_name}.h5\",\n",
    "                                                          monitor=monitor,\n",
    "                                                          save_best_only=True,\n",
    "                                                          save_freq='epoch',\n",
    "                                                          verbose=1)\n",
    "callbacks = [early_stopping, best_checkpoint]\n",
    "\n",
    "keras.utils.plot_model(model, to_file=f\"{model_name} Structure.png\", show_shapes=True)\n",
    "\n",
    "model.compile(loss=keras.losses.CategoricalCrossentropy(from_logits=True),\n",
    "              optimizer=keras.optimizers.Adam(learning_rate=lr_scheduler),\n",
    "              metrics=[keras.metrics.CategoricalAccuracy(name='acc')])"
   ]
  },
  {
   "cell_type": "code",
   "execution_count": 13,
   "id": "c2a0362d",
   "metadata": {
    "ExecuteTime": {
     "end_time": "2021-11-09T09:55:57.971948Z",
     "start_time": "2021-11-09T09:55:57.778425Z"
    }
   },
   "outputs": [
    {
     "data": {
      "image/png": "[encoded data removed]",
      "text/plain": [
       "<Figure size 432x288 with 1 Axes>"
      ]
     },
     "metadata": {
      "needs_background": "light"
     },
     "output_type": "display_data"
    }
   ],
   "source": [
    "plt.figure()\n",
    "plt.plot([lr_scheduler(step=x) for x in range(1, EPOCHS+1)])\n",
    "plt.title(\"Learning Rate after every epoch\")\n",
    "plt.tight_layout()\n",
    "plt.show()"
   ]
  },
  {
   "cell_type": "code",
   "execution_count": 14,
   "id": "bc88e7d4",
   "metadata": {
    "ExecuteTime": {
     "end_time": "2021-11-09T09:55:57.987944Z",
     "start_time": "2021-11-09T09:55:57.973962Z"
    }
   },
   "outputs": [
    {
     "name": "stdout",
     "output_type": "stream",
     "text": [
      "Model: \"sequential\"\n",
      "_________________________________________________________________\n",
      "Layer (type)                 Output Shape              Param #   \n",
      "=================================================================\n",
      "conv_block (ConvBlock)       (None, 104, 88, 32)       9696      \n",
      "_________________________________________________________________\n",
      "conv_block_1 (ConvBlock)     (None, 52, 44, 64)        55680     \n",
      "_________________________________________________________________\n",
      "conv_block_2 (ConvBlock)     (None, 26, 22, 128)       221952    \n",
      "_________________________________________________________________\n",
      "conv_block_3 (ConvBlock)     (None, 13, 11, 256)       886272    \n",
      "_________________________________________________________________\n",
      "conv_block_4 (ConvBlock)     (None, 6, 5, 256)         1181184   \n",
      "_________________________________________________________________\n",
      "dropout (Dropout)            (None, 6, 5, 256)         0         \n",
      "_________________________________________________________________\n",
      "flatten (Flatten)            (None, 7680)              0         \n",
      "_________________________________________________________________\n",
      "dense_block (DenseBlock)     (None, 512)               3934720   \n",
      "_________________________________________________________________\n",
      "dense_block_1 (DenseBlock)   (None, 256)               132352    \n",
      "_________________________________________________________________\n",
      "dense_block_2 (DenseBlock)   (None, 128)               33408     \n",
      "_________________________________________________________________\n",
      "dense_3 (Dense)              (None, 4)                 516       \n",
      "=================================================================\n",
      "Total params: 6,455,780\n",
      "Trainable params: 6,452,516\n",
      "Non-trainable params: 3,264\n",
      "_________________________________________________________________\n"
     ]
    }
   ],
   "source": [
    "model.summary()"
   ]
  },
  {
   "cell_type": "code",
   "execution_count": 15,
   "id": "fe9f3afa",
   "metadata": {
    "ExecuteTime": {
     "end_time": "2021-11-09T10:15:51.618297Z",
     "start_time": "2021-11-09T09:55:57.989945Z"
    },
    "scrolled": false
   },
   "outputs": [
    {
     "name": "stdout",
     "output_type": "stream",
     "text": [
      "Epoch 1/100\n",
      "257/257 [==============================] - 39s 131ms/step - loss: 0.9694 - acc: 0.5791 - val_loss: 1.7090 - val_acc: 0.5005\n",
      "\n",
      "Epoch 00001: val_acc improved from -inf to 0.50049, saving model to Alzheimers_Model.h5\n",
      "Epoch 2/100\n",
      "257/257 [==============================] - 42s 165ms/step - loss: 0.5753 - acc: 0.7609 - val_loss: 1.2590 - val_acc: 0.5973\n",
      "\n",
      "Epoch 00002: val_acc improved from 0.50049 to 0.59726, saving model to Alzheimers_Model.h5\n",
      "Epoch 3/100\n",
      "257/257 [==============================] - 38s 148ms/step - loss: 0.2469 - acc: 0.9136 - val_loss: 0.9101 - val_acc: 0.6158\n",
      "\n",
      "Epoch 00003: val_acc improved from 0.59726 to 0.61584, saving model to Alzheimers_Model.h5\n",
      "Epoch 4/100\n",
      "257/257 [==============================] - 41s 161ms/step - loss: 0.0686 - acc: 0.9832 - val_loss: 0.6852 - val_acc: 0.7312\n",
      "\n",
      "Epoch 00004: val_acc improved from 0.61584 to 0.73118, saving model to Alzheimers_Model.h5\n",
      "Epoch 5/100\n",
      "257/257 [==============================] - 43s 167ms/step - loss: 0.0376 - acc: 0.9915 - val_loss: 0.9603 - val_acc: 0.6745\n",
      "\n",
      "Epoch 00005: val_acc did not improve from 0.73118\n",
      "Epoch 6/100\n",
      "257/257 [==============================] - 42s 165ms/step - loss: 0.0156 - acc: 0.9968 - val_loss: 0.7067 - val_acc: 0.7458\n",
      "\n",
      "Epoch 00006: val_acc improved from 0.73118 to 0.74585, saving model to Alzheimers_Model.h5\n",
      "Epoch 7/100\n",
      "257/257 [==============================] - 41s 158ms/step - loss: 0.0112 - acc: 0.9978 - val_loss: 0.6558 - val_acc: 0.7644\n",
      "\n",
      "Epoch 00007: val_acc improved from 0.74585 to 0.76442, saving model to Alzheimers_Model.h5\n",
      "Epoch 8/100\n",
      "257/257 [==============================] - 29s 114ms/step - loss: 0.0066 - acc: 0.9993 - val_loss: 0.8350 - val_acc: 0.7390\n",
      "\n",
      "Epoch 00008: val_acc did not improve from 0.76442\n",
      "Epoch 9/100\n",
      "257/257 [==============================] - 29s 114ms/step - loss: 0.0047 - acc: 0.9995 - val_loss: 1.0151 - val_acc: 0.7165\n",
      "\n",
      "Epoch 00009: val_acc did not improve from 0.76442\n",
      "Epoch 10/100\n",
      "257/257 [==============================] - 30s 115ms/step - loss: 0.0050 - acc: 0.9993 - val_loss: 0.7480 - val_acc: 0.7644\n",
      "\n",
      "Epoch 00010: val_acc did not improve from 0.76442\n",
      "Epoch 11/100\n",
      "257/257 [==============================] - 29s 113ms/step - loss: 0.0035 - acc: 0.9995 - val_loss: 0.6749 - val_acc: 0.7693\n",
      "\n",
      "Epoch 00011: val_acc improved from 0.76442 to 0.76931, saving model to Alzheimers_Model.h5\n",
      "Epoch 12/100\n",
      "257/257 [==============================] - 29s 113ms/step - loss: 0.0025 - acc: 0.9998 - val_loss: 0.7280 - val_acc: 0.7625\n",
      "\n",
      "Epoch 00012: val_acc did not improve from 0.76931\n",
      "Epoch 13/100\n",
      "257/257 [==============================] - 29s 114ms/step - loss: 0.0021 - acc: 1.0000 - val_loss: 0.8293 - val_acc: 0.7517\n",
      "\n",
      "Epoch 00013: val_acc did not improve from 0.76931\n",
      "Epoch 14/100\n",
      "257/257 [==============================] - 31s 120ms/step - loss: 0.0016 - acc: 1.0000 - val_loss: 0.7275 - val_acc: 0.7703\n",
      "\n",
      "Epoch 00014: val_acc improved from 0.76931 to 0.77028, saving model to Alzheimers_Model.h5\n",
      "Epoch 15/100\n",
      "257/257 [==============================] - 33s 127ms/step - loss: 0.0021 - acc: 0.9998 - val_loss: 0.6650 - val_acc: 0.7791\n",
      "\n",
      "Epoch 00015: val_acc improved from 0.77028 to 0.77908, saving model to Alzheimers_Model.h5\n",
      "Epoch 16/100\n",
      "257/257 [==============================] - 29s 115ms/step - loss: 0.0014 - acc: 0.9998 - val_loss: 0.7387 - val_acc: 0.7713\n",
      "\n",
      "Epoch 00016: val_acc did not improve from 0.77908\n",
      "Epoch 17/100\n",
      "257/257 [==============================] - 29s 114ms/step - loss: 0.0011 - acc: 1.0000 - val_loss: 0.8069 - val_acc: 0.7713\n",
      "\n",
      "Epoch 00017: val_acc did not improve from 0.77908\n",
      "Epoch 18/100\n",
      "257/257 [==============================] - 29s 114ms/step - loss: 8.6445e-04 - acc: 1.0000 - val_loss: 0.7100 - val_acc: 0.7859\n",
      "\n",
      "Epoch 00018: val_acc improved from 0.77908 to 0.78592, saving model to Alzheimers_Model.h5\n",
      "Epoch 19/100\n",
      "257/257 [==============================] - 30s 116ms/step - loss: 0.0011 - acc: 1.0000 - val_loss: 0.6461 - val_acc: 0.7889\n",
      "\n",
      "Epoch 00019: val_acc improved from 0.78592 to 0.78886, saving model to Alzheimers_Model.h5\n",
      "Epoch 20/100\n",
      "257/257 [==============================] - 29s 114ms/step - loss: 6.3060e-04 - acc: 1.0000 - val_loss: 0.7171 - val_acc: 0.7732\n",
      "\n",
      "Epoch 00020: val_acc did not improve from 0.78886\n",
      "Epoch 21/100\n",
      "257/257 [==============================] - 32s 124ms/step - loss: 0.0013 - acc: 1.0000 - val_loss: 0.6911 - val_acc: 0.7840\n",
      "\n",
      "Epoch 00021: val_acc did not improve from 0.78886\n",
      "Epoch 22/100\n",
      "257/257 [==============================] - 30s 115ms/step - loss: 0.0058 - acc: 0.9976 - val_loss: 0.7880 - val_acc: 0.7732\n",
      "\n",
      "Epoch 00022: val_acc did not improve from 0.78886\n",
      "Epoch 23/100\n",
      "257/257 [==============================] - 30s 115ms/step - loss: 0.0015 - acc: 1.0000 - val_loss: 0.6383 - val_acc: 0.7977\n",
      "\n",
      "Epoch 00023: val_acc improved from 0.78886 to 0.79765, saving model to Alzheimers_Model.h5\n",
      "Epoch 24/100\n",
      "257/257 [==============================] - 29s 114ms/step - loss: 0.0017 - acc: 0.9998 - val_loss: 0.8194 - val_acc: 0.7615\n",
      "\n",
      "Epoch 00024: val_acc did not improve from 0.79765\n",
      "Epoch 25/100\n",
      "257/257 [==============================] - 30s 116ms/step - loss: 8.0109e-04 - acc: 1.0000 - val_loss: 0.6796 - val_acc: 0.7810\n",
      "\n",
      "Epoch 00025: val_acc did not improve from 0.79765\n",
      "Epoch 26/100\n",
      "257/257 [==============================] - 29s 113ms/step - loss: 5.5967e-04 - acc: 1.0000 - val_loss: 0.7134 - val_acc: 0.7918\n",
      "\n",
      "Epoch 00026: val_acc did not improve from 0.79765\n",
      "Epoch 27/100\n",
      "257/257 [==============================] - 29s 113ms/step - loss: 6.8307e-04 - acc: 1.0000 - val_loss: 0.6476 - val_acc: 0.8045\n",
      "\n",
      "Epoch 00027: val_acc improved from 0.79765 to 0.80450, saving model to Alzheimers_Model.h5\n",
      "Epoch 28/100\n",
      "257/257 [==============================] - 29s 113ms/step - loss: 0.0019 - acc: 0.9993 - val_loss: 0.7113 - val_acc: 0.7889\n",
      "\n",
      "Epoch 00028: val_acc did not improve from 0.80450\n",
      "Epoch 29/100\n",
      "257/257 [==============================] - 29s 114ms/step - loss: 5.4444e-04 - acc: 1.0000 - val_loss: 0.7131 - val_acc: 0.7908\n",
      "\n",
      "Epoch 00029: val_acc did not improve from 0.80450\n",
      "Epoch 30/100\n",
      "257/257 [==============================] - 31s 121ms/step - loss: 4.2780e-04 - acc: 1.0000 - val_loss: 0.7634 - val_acc: 0.7693\n",
      "\n",
      "Epoch 00030: val_acc did not improve from 0.80450\n",
      "Epoch 31/100\n",
      "257/257 [==============================] - 29s 114ms/step - loss: 8.4843e-04 - acc: 0.9998 - val_loss: 0.7757 - val_acc: 0.7859\n",
      "\n",
      "Epoch 00031: val_acc did not improve from 0.80450\n",
      "Epoch 32/100\n",
      "257/257 [==============================] - 30s 116ms/step - loss: 9.6470e-04 - acc: 0.9998 - val_loss: 0.7501 - val_acc: 0.7791\n",
      "\n",
      "Epoch 00032: val_acc did not improve from 0.80450\n",
      "Epoch 33/100\n",
      "257/257 [==============================] - 30s 115ms/step - loss: 0.0022 - acc: 0.9995 - val_loss: 0.8532 - val_acc: 0.7625\n",
      "\n",
      "Epoch 00033: val_acc did not improve from 0.80450\n",
      "Epoch 34/100\n",
      "257/257 [==============================] - 29s 115ms/step - loss: 3.7703e-04 - acc: 1.0000 - val_loss: 0.7685 - val_acc: 0.7859\n",
      "\n",
      "Epoch 00034: val_acc did not improve from 0.80450\n",
      "Epoch 35/100\n",
      "257/257 [==============================] - 31s 122ms/step - loss: 8.3497e-04 - acc: 0.9998 - val_loss: 1.3341 - val_acc: 0.7224\n",
      "\n",
      "Epoch 00035: val_acc did not improve from 0.80450\n",
      "Epoch 36/100\n",
      "257/257 [==============================] - 32s 123ms/step - loss: 0.0010 - acc: 0.9998 - val_loss: 0.7341 - val_acc: 0.7937\n",
      "\n",
      "Epoch 00036: val_acc did not improve from 0.80450\n",
      "Epoch 37/100\n",
      "257/257 [==============================] - 30s 116ms/step - loss: 4.1320e-04 - acc: 1.0000 - val_loss: 0.7258 - val_acc: 0.7937\n",
      "\n",
      "Epoch 00037: val_acc did not improve from 0.80450\n"
     ]
    }
   ],
   "source": [
    "train = model.fit(train_generator,\n",
    "                  epochs=EPOCHS,\n",
    "                  verbose=1,\n",
    "                  workers=-1,\n",
    "                  use_multiprocessing=True,\n",
    "                  validation_data=val_generator,\n",
    "                  callbacks=callbacks)"
   ]
  },
  {
   "cell_type": "code",
   "execution_count": 16,
   "id": "eee72c43",
   "metadata": {
    "ExecuteTime": {
     "end_time": "2021-11-09T10:15:52.269412Z",
     "start_time": "2021-11-09T10:15:51.620304Z"
    }
   },
   "outputs": [],
   "source": [
    "model = keras.models.load_model(f\"{model_name}.h5\")"
   ]
  },
  {
   "cell_type": "code",
   "execution_count": 17,
   "id": "77e24a72",
   "metadata": {
    "ExecuteTime": {
     "end_time": "2021-11-09T10:16:16.677106Z",
     "start_time": "2021-11-09T10:15:52.270405Z"
    }
   },
   "outputs": [
    {
     "name": "stdout",
     "output_type": "stream",
     "text": [
      "80/80 [==============================] - 24s 301ms/step - loss: 1.2913 - acc: 0.7099\n"
     ]
    }
   ],
   "source": [
    "test = model.evaluate(test_generator,\n",
    "                      workers=-1,\n",
    "                      use_multiprocessing=True,\n",
    "                      verbose=1)"
   ]
  },
  {
   "cell_type": "code",
   "execution_count": 18,
   "id": "b783dedc",
   "metadata": {
    "ExecuteTime": {
     "end_time": "2021-11-09T10:16:16.707865Z",
     "start_time": "2021-11-09T10:16:16.677106Z"
    }
   },
   "outputs": [
    {
     "data": {
      "text/html": [
       "<div>\n",
       "<style scoped>\n",
       "    .dataframe tbody tr th:only-of-type {\n",
       "        vertical-align: middle;\n",
       "    }\n",
       "\n",
       "    .dataframe tbody tr th {\n",
       "        vertical-align: top;\n",
       "    }\n",
       "\n",
       "    .dataframe thead th {\n",
       "        text-align: right;\n",
       "    }\n",
       "</style>\n",
       "<table border=\"1\" class=\"dataframe\">\n",
       "  <thead>\n",
       "    <tr style=\"text-align: right;\">\n",
       "      <th></th>\n",
       "      <th>loss</th>\n",
       "      <th>acc</th>\n",
       "      <th>val_loss</th>\n",
       "      <th>val_acc</th>\n",
       "    </tr>\n",
       "  </thead>\n",
       "  <tbody>\n",
       "    <tr>\n",
       "      <th>0</th>\n",
       "      <td>0.969428</td>\n",
       "      <td>0.579063</td>\n",
       "      <td>1.708997</td>\n",
       "      <td>0.500489</td>\n",
       "    </tr>\n",
       "    <tr>\n",
       "      <th>1</th>\n",
       "      <td>0.575257</td>\n",
       "      <td>0.760859</td>\n",
       "      <td>1.258973</td>\n",
       "      <td>0.597263</td>\n",
       "    </tr>\n",
       "    <tr>\n",
       "      <th>2</th>\n",
       "      <td>0.246928</td>\n",
       "      <td>0.913616</td>\n",
       "      <td>0.910123</td>\n",
       "      <td>0.615836</td>\n",
       "    </tr>\n",
       "    <tr>\n",
       "      <th>3</th>\n",
       "      <td>0.068618</td>\n",
       "      <td>0.983163</td>\n",
       "      <td>0.685222</td>\n",
       "      <td>0.731183</td>\n",
       "    </tr>\n",
       "    <tr>\n",
       "      <th>4</th>\n",
       "      <td>0.037584</td>\n",
       "      <td>0.991459</td>\n",
       "      <td>0.960310</td>\n",
       "      <td>0.674487</td>\n",
       "    </tr>\n",
       "  </tbody>\n",
       "</table>\n",
       "</div>"
      ],
      "text/plain": [
       "       loss       acc  val_loss   val_acc\n",
       "0  0.969428  0.579063  1.708997  0.500489\n",
       "1  0.575257  0.760859  1.258973  0.597263\n",
       "2  0.246928  0.913616  0.910123  0.615836\n",
       "3  0.068618  0.983163  0.685222  0.731183\n",
       "4  0.037584  0.991459  0.960310  0.674487"
      ]
     },
     "execution_count": 18,
     "metadata": {},
     "output_type": "execute_result"
    }
   ],
   "source": [
    "train_history = pd.DataFrame(train.history)\n",
    "train_history.head()"
   ]
  },
  {
   "cell_type": "code",
   "execution_count": 19,
   "id": "995f2ac8",
   "metadata": {
    "ExecuteTime": {
     "end_time": "2021-11-09T10:16:16.994424Z",
     "start_time": "2021-11-09T10:16:16.709869Z"
    }
   },
   "outputs": [
    {
     "data": {
      "image/png": "[encoded data removed]",
      "text/plain": [
       "<Figure size 576x432 with 2 Axes>"
      ]
     },
     "metadata": {
      "needs_background": "light"
     },
     "output_type": "display_data"
    }
   ],
   "source": [
    "fig, ax = plt.subplots(2, 1, figsize=(8, 6))\n",
    "ax[0].plot(train_history['acc'], label='acc')\n",
    "ax[0].plot(train_history['val_acc'], label='val_acc')\n",
    "ax[0].fill_between(x=train_history.index, y1=train_history['acc'], y2=train_history['val_acc'], alpha=0.15)\n",
    "ax[0].axhline(test[1], color='black', label='test acc', linestyle='--')\n",
    "ax[0].legend(loc='best')\n",
    "ax[0].margins(x=0.01, y=0.01)\n",
    "ax[0].set_title('accuracy per epoch during training')\n",
    "\n",
    "ax[1].plot(train_history['loss'], label='loss')\n",
    "ax[1].plot(train_history['val_loss'], label='val_loss')\n",
    "ax[1].fill_between(x=train_history.index, y1=train_history['loss'], y2=train_history['val_loss'], alpha=0.15)\n",
    "ax[1].axhline(test[0], color='black', label='test loss', linestyle='--')\n",
    "ax[1].legend(loc='best')\n",
    "ax[1].margins(x=0.01, y=0.01)\n",
    "ax[1].set_title('loss per epoch during training')\n",
    "\n",
    "plt.suptitle(f\"Test stats:\\nLoss: {round(test[0], 4)} \\nAcc: {round(test[1], 4)}\")\n",
    "plt.tight_layout()\n",
    "plt.show()"
   ]
  }
 ],
 "metadata": {
  "kernelspec": {
   "display_name": "Python 3",
   "language": "python",
   "name": "python3"
  },
  "language_info": {
   "codemirror_mode": {
    "name": "ipython",
    "version": 3
   },
   "file_extension": ".py",
   "mimetype": "text/x-python",
   "name": "python",
   "nbconvert_exporter": "python",
   "pygments_lexer": "ipython3",
   "version": "3.8.8"
  },
  "toc": {
   "base_numbering": 1,
   "nav_menu": {},
   "number_sections": true,
   "sideBar": true,
   "skip_h1_title": false,
   "title_cell": "Table of Contents",
   "title_sidebar": "Contents",
   "toc_cell": false,
   "toc_position": {},
   "toc_section_display": true,
   "toc_window_display": false
  }
 },
 "nbformat": 4,
 "nbformat_minor": 5
}
